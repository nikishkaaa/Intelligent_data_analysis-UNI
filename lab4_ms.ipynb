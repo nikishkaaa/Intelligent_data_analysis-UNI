{
  "nbformat": 4,
  "nbformat_minor": 0,
  "metadata": {
    "colab": {
      "provenance": [],
      "authorship_tag": "ABX9TyOlPBrvEPxuWsiGq1Y/axbe",
      "include_colab_link": true
    },
    "kernelspec": {
      "name": "python3",
      "display_name": "Python 3"
    },
    "language_info": {
      "name": "python"
    }
  },
  "cells": [
    {
      "cell_type": "markdown",
      "metadata": {
        "id": "view-in-github",
        "colab_type": "text"
      },
      "source": [
        "<a href=\"https://colab.research.google.com/github/nikishkaaa/Intelligent_data_analysis-UNI/blob/main/lab4_ms.ipynb\" target=\"_parent\"><img src=\"https://colab.research.google.com/assets/colab-badge.svg\" alt=\"Open In Colab\"/></a>"
      ]
    },
    {
      "cell_type": "code",
      "execution_count": 1,
      "metadata": {
        "colab": {
          "base_uri": "https://localhost:8080/"
        },
        "id": "i7wS4PhvR-5m",
        "outputId": "09313a5e-e541-420a-b35d-d64a1bc34040"
      },
      "outputs": [
        {
          "output_type": "stream",
          "name": "stdout",
          "text": [
            "P_otk (Імовірність відмови): 0.0000\n",
            "Q (Відносна пропускна здатність): 1.0000\n",
            "A (Абсолютна пропускна здатність): 25.0000\n",
            "k_zan (Середня кількість зайнятих каналів): 0.8333\n",
            "L_queue (Середня довжина черги): 0.0000\n",
            "T_queue (Середній час очікування в черзі): 0.0000\n",
            "L_system (Середня кількість заявок у системі): 0.8333\n",
            "T_system (Середній час перебування в системі): 0.0333\n"
          ]
        }
      ],
      "source": [
        "import math\n",
        "# Параметри системи\n",
        "lambda_ = 25\n",
        "mu = 30\n",
        "n = 5\n",
        "m = 5\n",
        "rho = lambda_ / mu\n",
        "# Ймовірність того, що немає жодної заявки в системі\n",
        "def calc_p0(n, m, rho):\n",
        "    sum_term = sum((rho ** k) / math.factorial(k) for k in range(n + 1))\n",
        "    last_term = ((rho ** (n + m)) / (n ** m * math.factorial(n))) * (1 - (rho /\n",
        "    n) ** (m + 1)) / (1 - rho / n)\n",
        "    return 1 / (sum_term + last_term)\n",
        "p0 = calc_p0(n, m, rho)\n",
        "# Імовірність відмови\n",
        "P_otk = (rho ** (n + m)) / (n ** m * math.factorial(n)) * p0\n",
        "# Відносна пропускна здатність\n",
        "Q = 1 - P_otk\n",
        "# Абсолютна пропускна здатність\n",
        "A = lambda_ * Q\n",
        "# Середня кількість зайнятих каналів\n",
        "k_zan = rho * Q\n",
        "# Середня довжина черги\n",
        "L_queue = ((rho ** (n + 1)) / (math.factorial(n) * n ** m)) * (1 - (rho / n) **\n",
        "m * (m + 1 - m * rho / n)) / ((1 - rho / n) ** 2) * p0\n",
        "# Середній час очікування заявки в черзі\n",
        "T_queue = L_queue / lambda_\n",
        "# Середня кількість заявок у системі\n",
        "L_system = L_queue + k_zan\n",
        "# Середній час перебування заявки в системі\n",
        "T_system = L_system / lambda_\n",
        "# Результати\n",
        "results = {\n",
        "    \"P_otk (Імовірність відмови)\": P_otk,\n",
        "    \"Q (Відносна пропускна здатність)\": Q,\n",
        "    \"A (Абсолютна пропускна здатність)\": A,\n",
        "    \"k_zan (Середня кількість зайнятих каналів)\": k_zan,\n",
        "    \"L_queue (Середня довжина черги)\": L_queue,\n",
        "    \"T_queue (Середній час очікування в черзі)\": T_queue,\n",
        "    \"L_system (Середня кількість заявок у системі)\": L_system,\n",
        "    \"T_system (Середній час перебування в системі)\": T_system\n",
        "    }\n",
        "# Виведення результатів у вигляді таблиці\n",
        "for key, value in results.items():\n",
        "    print(f\"{key}: {value:.4f}\")"
      ]
    }
  ]
}